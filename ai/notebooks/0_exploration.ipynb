{
  "cells": [
    {
      "cell_type": "markdown",
      "metadata": {},
      "source": [
        "# LoveMemory AI - Исследование данных\n",
        "\n",
        "Этот notebook для анализа данных пользователей и пар для улучшения рекомендаций.\n"
      ]
    },
    {
      "cell_type": "code",
      "execution_count": null,
      "metadata": {},
      "outputs": [],
      "source": [
        "import pandas as pd\n",
        "import numpy as np\n",
        "import matplotlib.pyplot as plt\n",
        "import seaborn as sns\n",
        "from sqlalchemy import create_engine\n",
        "import os\n",
        "from dotenv import load_dotenv\n",
        "\n",
        "# Загружаем переменные окружения\n",
        "load_dotenv()\n",
        "\n",
        "# Настройка стиля графиков\n",
        "plt.style.use('seaborn-v0_8')\n",
        "sns.set_palette(\"husl\")\n"
      ]
    }
  ],
  "metadata": {
    "language_info": {
      "name": "python"
    }
  },
  "nbformat": 4,
  "nbformat_minor": 2
}
