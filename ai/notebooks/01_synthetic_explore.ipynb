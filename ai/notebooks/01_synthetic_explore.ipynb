{
  "cells": [
    {
      "cell_type": "markdown",
      "metadata": {},
      "source": [
        "# LoveMemory AI - Анализ синтетических данных\n",
        "\n",
        "Этот notebook анализирует сгенерированные синтетические данные для понимания распределений и паттернов.\n"
      ]
    },
    {
      "cell_type": "code",
      "execution_count": null,
      "metadata": {},
      "outputs": [],
      "source": [
        "import pandas as pd\n",
        "import numpy as np\n",
        "import matplotlib.pyplot as plt\n",
        "import seaborn as sns\n",
        "import json\n",
        "from pathlib import Path\n",
        "\n",
        "# Настройка стиля графиков\n",
        "plt.style.use('seaborn-v0_8')\n",
        "sns.set_palette(\"husl\")\n",
        "\n",
        "# Загружаем синтетические данные\n",
        "data_dir = Path('../data/synthetic_v1')\n",
        "\n",
        "print(\"📊 Загружаем синтетические данные...\")\n",
        "users_df = pd.read_csv(data_dir / 'users.csv')\n",
        "pairs_df = pd.read_csv(data_dir / 'pairs.csv')\n",
        "interactions_df = pd.read_csv(data_dir / 'interactions.csv')\n",
        "products_df = pd.read_csv(data_dir / 'product_catalog.csv')\n",
        "\n",
        "print(f\"✅ Загружено:\")\n",
        "print(f\"  - Пользователей: {len(users_df)}\")\n",
        "print(f\"  - Пар: {len(pairs_df)}\")\n",
        "print(f\"  - Взаимодействий: {len(interactions_df)}\")\n",
        "print(f\"  - Товаров: {len(products_df)}\")\n"
      ]
    },
    {
      "cell_type": "markdown",
      "metadata": {},
      "source": [
        "## 1. Анализ архетипов пользователей\n"
      ]
    },
    {
      "cell_type": "code",
      "execution_count": null,
      "metadata": {},
      "outputs": [],
      "source": [
        "# Распределение архетипов\n",
        "archetype_counts = users_df['archetype'].value_counts()\n",
        "print(\"🎭 Распределение архетипов:\")\n",
        "print(archetype_counts)\n",
        "\n",
        "# Визуализация\n",
        "plt.figure(figsize=(12, 6))\n",
        "plt.subplot(1, 2, 1)\n",
        "archetype_counts.plot(kind='bar', color='skyblue')\n",
        "plt.title('Распределение архетипов пользователей')\n",
        "plt.xlabel('Архетип')\n",
        "plt.ylabel('Количество')\n",
        "plt.xticks(rotation=45)\n",
        "\n",
        "# Распределение возрастов по архетипам\n",
        "plt.subplot(1, 2, 2)\n",
        "users_df.boxplot(column='age', by='archetype', ax=plt.gca())\n",
        "plt.title('Распределение возрастов по архетипам')\n",
        "plt.xlabel('Архетип')\n",
        "plt.ylabel('Возраст')\n",
        "plt.xticks(rotation=45)\n",
        "\n",
        "plt.tight_layout()\n",
        "plt.show()\n"
      ]
    },
    {
      "cell_type": "markdown",
      "metadata": {},
      "source": [
        "## 2. Анализ языков любви\n",
        " "
      ]
    },
    {
      "cell_type": "code",
      "execution_count": null,
      "metadata": {},
      "outputs": [],
      "source": [
        "# Анализ языков любви\n",
        "love_languages = ['quality_time', 'physical_touch', 'words_of_affirmation', 'acts_of_service', 'receiving_gifts']\n",
        "\n",
        "# Создаем DataFrame для языков любви\n",
        "love_lang_data = []\n",
        "for _, user in users_df.iterrows():\n",
        "    for lang in love_languages:\n",
        "        love_lang_data.append({\n",
        "            'user_id': user['id'],\n",
        "            'archetype': user['archetype'],\n",
        "            'love_language': lang,\n",
        "            'value': user['love_languages'][lang] if isinstance(user['love_languages'], dict) else 0.2\n",
        "        })\n",
        "\n",
        "love_lang_df = pd.DataFrame(love_lang_data)\n",
        "\n",
        "# Визуализация языков любви по архетипам\n",
        "plt.figure(figsize=(15, 10))\n",
        "\n",
        "# Heatmap языков любви по архетипам\n",
        "pivot_data = love_lang_df.pivot_table(\n",
        "    values='value', \n",
        "    index='archetype', \n",
        "    columns='love_language', \n",
        "    aggfunc='mean'\n",
        ")\n",
        "\n",
        "plt.subplot(2, 2, 1)\n",
        "sns.heatmap(pivot_data, annot=True, cmap='YlOrRd', fmt='.2f')\n",
        "plt.title('Средние значения языков любви по архетипам')\n",
        "\n",
        "# Распределение языков любви\n",
        "plt.subplot(2, 2, 2)\n",
        "love_lang_means = love_lang_df.groupby('love_language')['value'].mean()\n",
        "love_lang_means.plot(kind='bar', color='lightcoral')\n",
        "plt.title('Средние значения языков любви')\n",
        "plt.xlabel('Язык любви')\n",
        "plt.ylabel('Среднее значение')\n",
        "plt.xticks(rotation=45)\n",
        "\n",
        "# Boxplot языков любви\n",
        "plt.subplot(2, 2, 3)\n",
        "love_lang_df.boxplot(column='value', by='love_language', ax=plt.gca())\n",
        "plt.title('Распределение языков любви')\n",
        "plt.xlabel('Язык любви')\n",
        "plt.ylabel('Значение')\n",
        "plt.xticks(rotation=45)\n",
        "\n",
        "# Топ языки любви по архетипам\n",
        "plt.subplot(2, 2, 4)\n",
        "for archetype in users_df['archetype'].unique():\n",
        "    archetype_data = love_lang_df[love_lang_df['archetype'] == archetype]\n",
        "    top_lang = archetype_data.groupby('love_language')['value'].mean().idxmax()\n",
        "    print(f\"{archetype}: {top_lang}\")\n",
        "\n",
        "plt.tight_layout()\n",
        "plt.show()\n"
      ]
    }
  ],
  "metadata": {
    "language_info": {
      "name": "python"
    }
  },
  "nbformat": 4,
  "nbformat_minor": 2
}
